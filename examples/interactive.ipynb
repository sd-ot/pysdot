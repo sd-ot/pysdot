{
 "cells": [
  {
   "cell_type": "code",
   "execution_count": 1,
   "metadata": {},
   "outputs": [],
   "source": [
    "# imports\n",
    "from pysdot.domain_types import ConvexPolyhedraAssembly\n",
    "from pysdot import PowerDiagram\n",
    "import numpy as np\n",
    "\n",
    "# basic power diagram\n",
    "def make_pd( positions, weights ):\n",
    "    domain = ConvexPolyhedraAssembly()\n",
    "    domain.add_box([0, 0], [1, 1])\n",
    "    \n",
    "    pd = PowerDiagram(domain)\n",
    "    pd.set_positions(positions)\n",
    "    pd.set_weights(weights)\n",
    "    return pd"
   ]
  },
  {
   "cell_type": "code",
   "execution_count": 8,
   "metadata": {},
   "outputs": [
    {
     "data": {
      "application/vnd.jupyter.widget-view+json": {
       "model_id": "d00311ffc82d455fb6d4156909a5c282",
       "version_major": 2,
       "version_minor": 0
      },
      "text/plain": [
       "interactive(children=(FloatSlider(value=1.0, description='w0', max=1.1, min=0.9, step=0.001), FloatSlider(valu…"
      ]
     },
     "metadata": {},
     "output_type": "display_data"
    }
   ],
   "source": [
    "# positions and weights\n",
    "nb_diracs = 100\n",
    "positions = np.random.rand(nb_diracs, 2)\n",
    "weights = np.ones(nb_diracs)\n",
    "\n",
    "# display\n",
    "import ipywidgets\n",
    "sl0 = ipywidgets.widgets.FloatSlider(min=1-0.1,max=1+0.1,step=0.001,value=1.0)\n",
    "sl1 = ipywidgets.widgets.FloatSlider(min=1-0.1,max=1+0.1,step=0.001,value=1.0)\n",
    "@ipywidgets.interact(w0=sl0, w1=sl1)\n",
    "def disp(w0, w1):\n",
    "    weights[ 0 ] = w0\n",
    "    weights[ 1 ] = w1\n",
    "\n",
    "    pd = make_pd( positions, weights )\n",
    "    \n",
    "    # shift + wheel to zoom in/out\n",
    "    return pd.display_jupyter( disp_positions=False, disp_ids=False )"
   ]
  },
  {
   "cell_type": "code",
   "execution_count": null,
   "metadata": {},
   "outputs": [],
   "source": []
  }
 ],
 "metadata": {
  "kernelspec": {
   "display_name": "Python 3",
   "language": "python",
   "name": "python3"
  },
  "language_info": {
   "codemirror_mode": {
    "name": "ipython",
    "version": 3
   },
   "file_extension": ".py",
   "mimetype": "text/x-python",
   "name": "python",
   "nbconvert_exporter": "python",
   "pygments_lexer": "ipython3",
   "version": "3.6.7"
  }
 },
 "nbformat": 4,
 "nbformat_minor": 2
}
